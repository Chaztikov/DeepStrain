{
 "cells": [
  {
   "cell_type": "code",
   "execution_count": 1,
   "metadata": {},
   "outputs": [],
   "source": [
    "import os\n",
    "from options.test_options import TestOptions"
   ]
  },
  {
   "cell_type": "code",
   "execution_count": 12,
   "metadata": {},
   "outputs": [
    {
     "name": "stdout",
     "output_type": "stream",
     "text": [
      "+ RESULTS_DIR=./results/sampledata\n",
      "+ CARSON_PATH=./pretrained_models/carson_Jan2021.h5\n",
      "+ CARMEN_PATH=./pretrained_models/carmen_Jan2021.h5\n",
      "+ CLASS=edges2shoes\n",
      "+ FORMAT=NIFTI\n",
      "+ GPU_ID=0\n",
      "+ NUM_TEST=10\n",
      "+ NUM_SAMPLES=10\n",
      "+ CUDA_VISIBLE_DEVICES=0\n",
      "+ python ./test.py --dataformat NIFTI --dataroot ./datasets/edges2shoes --results_dir ./results/sampledata\n",
      "2021-02-02 02:29:35.232225: I tensorflow/stream_executor/platform/default/dso_loader.cc:48] Successfully opened dynamic library libcudart.so.10.1\n",
      "NIFTI\n"
     ]
    }
   ],
   "source": [
    "!bash ./scripts/test_CarSON.sh"
   ]
  },
  {
   "cell_type": "code",
   "execution_count": 1,
   "metadata": {},
   "outputs": [],
   "source": [
    "import numpy as np\n",
    "from models import deep_strain\n",
    "from data import base_dataset\n",
    "from data import nifti_dataset\n",
    "from options import base_options"
   ]
  },
  {
   "cell_type": "code",
   "execution_count": 2,
   "metadata": {},
   "outputs": [],
   "source": [
    "class BaseOptions():\n",
    "    \n",
    "    def __init__(self):\n",
    "        self.name = 'for_test_only'\n",
    "        self.dataroot = '../sample_data/'\n",
    "        self.max_dataset_size = float(\"inf\")\n",
    "        self.preprocess = 'reshape_to_carson_crop_zscore'\n",
    "        self.image_shape  = (128,128,1)\n",
    "        self.volume_shape = (128,128,16,1)\n",
    "        self.criterion_netS = (128,128,16,1)\n",
    "        self.pretrained_models_netS  = './pretrained_models/carson_Jan2021.h5'\n",
    "        self.pretrained_models_netME = './pretrained_models/carmen_Jan2021.h5'\n",
    "        self.nlabels = 4\n",
    "        self.netS_lr = 5e-4\n",
    "        \n",
    "        \n",
    "        self.lambda_i = 0.01\n",
    "        self.lambda_a = 0.5\n",
    "        self.lambda_s = 0.1\n",
    "        "
   ]
  },
  {
   "cell_type": "code",
   "execution_count": 3,
   "metadata": {},
   "outputs": [],
   "source": [
    "opt = BaseOptions()"
   ]
  },
  {
   "cell_type": "code",
   "execution_count": 4,
   "metadata": {},
   "outputs": [],
   "source": [
    "dataset = nifti_dataset.NiftiDataset(opt)"
   ]
  },
  {
   "cell_type": "code",
   "execution_count": 5,
   "metadata": {},
   "outputs": [],
   "source": [
    "from tensorflow.keras.optimizers import Adam"
   ]
  },
  {
   "cell_type": "code",
   "execution_count": 6,
   "metadata": {},
   "outputs": [],
   "source": [
    "x = dataset.__loaddata__(0)"
   ]
  },
  {
   "cell_type": "code",
   "execution_count": 7,
   "metadata": {},
   "outputs": [],
   "source": [
    "ds = deep_strain.DeepStrain(Adam, opt)\n"
   ]
  },
  {
   "cell_type": "code",
   "execution_count": 8,
   "metadata": {},
   "outputs": [],
   "source": [
    "netS = ds.test_segmentations()"
   ]
  },
  {
   "cell_type": "code",
   "execution_count": 11,
   "metadata": {},
   "outputs": [],
   "source": [
    "y = netS.predict(x, batch_size=1)"
   ]
  },
  {
   "cell_type": "code",
   "execution_count": 13,
   "metadata": {},
   "outputs": [],
   "source": [
    "y = np.argmax(y,-1)"
   ]
  },
  {
   "cell_type": "code",
   "execution_count": 16,
   "metadata": {},
   "outputs": [
    {
     "data": {
      "text/plain": [
       "<matplotlib.image.AxesImage at 0x7f93e532f4a8>"
      ]
     },
     "execution_count": 16,
     "metadata": {},
     "output_type": "execute_result"
    },
    {
     "data": {
      "image/png": "[encoded data removed]",
      "text/plain": [
       "<Figure size 432x288 with 1 Axes>"
      ]
     },
     "metadata": {
      "needs_background": "light"
     },
     "output_type": "display_data"
    }
   ],
   "source": [
    "plt.imshow(y[10])"
   ]
  },
  {
   "cell_type": "code",
   "execution_count": 15,
   "metadata": {},
   "outputs": [],
   "source": [
    "import matplotlib.pylab as plt"
   ]
  },
  {
   "cell_type": "code",
   "execution_count": null,
   "metadata": {},
   "outputs": [],
   "source": []
  }
 ],
 "metadata": {
  "kernelspec": {
   "display_name": "Python 3",
   "language": "python",
   "name": "python3"
  },
  "language_info": {
   "codemirror_mode": {
    "name": "ipython",
    "version": 3
   },
   "file_extension": ".py",
   "mimetype": "text/x-python",
   "name": "python",
   "nbconvert_exporter": "python",
   "pygments_lexer": "ipython3",
   "version": "3.6.9"
  }
 },
 "nbformat": 4,
 "nbformat_minor": 2
}
